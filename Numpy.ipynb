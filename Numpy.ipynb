{
 "cells": [
  {
   "cell_type": "markdown",
   "id": "690adf81",
   "metadata": {},
   "source": [
    "## Numpy Library Assignment"
   ]
  },
  {
   "cell_type": "code",
   "execution_count": null,
   "id": "45e179be",
   "metadata": {},
   "outputs": [],
   "source": []
  },
  {
   "cell_type": "markdown",
   "id": "5fb56e12",
   "metadata": {},
   "source": [
    "#### 1. What is a Python library? Why do we use Python libraries?\n",
    "\n",
    "#### Ans : \n",
    "- Python Library : It is a collection of functions and methods.\n",
    "- Use : We use python libraries in our main program so that we don't need to explicitely write the complex program for a function which is already defined in python library. We can use a function or method of simply calling it after importing the library."
   ]
  },
  {
   "cell_type": "markdown",
   "id": "ee989357",
   "metadata": {},
   "source": [
    "#### 2. What is the difference between Numpy array and List?\n",
    "#### Ans :\n",
    "- Python lists are mutable data type which can be used to store the data of different type while Numpy arrays are also mutable which store the data of same type.\n",
    "- Lists are slower than numpy array as Numpy array stores the data in `contiguous memory location` while lists store the data in `non-contiguous memory location`.\n",
    "- Lists are created using pair of bracket `[]` while numpy arrays are created using numpy's array() function."
   ]
  },
  {
   "cell_type": "markdown",
   "id": "a840dac9",
   "metadata": {},
   "source": [
    "#### 3. Find the shape, size and dimension of the following array?\n",
    "[[1, 2, 3, 4]\n",
    "[5, 6, 7, 8],\n",
    "[9, 10, 11, 12]]"
   ]
  },
  {
   "cell_type": "markdown",
   "id": "5564c984",
   "metadata": {},
   "source": [
    "#### Ans :"
   ]
  },
  {
   "cell_type": "code",
   "execution_count": 10,
   "id": "44caebc7",
   "metadata": {},
   "outputs": [
    {
     "name": "stdout",
     "output_type": "stream",
     "text": [
      "Shape of the array :  (3, 4)\n",
      "Size of the array :  12\n",
      "Dimention of the array :  2\n"
     ]
    }
   ],
   "source": [
    "import numpy as np\n",
    "\n",
    "arr1 = np.array([[1, 2, 3, 4], [5, 6, 7, 8], [9, 10, 11, 12]])\n",
    "\n",
    "print(\"Shape of the array : \" , arr1.shape)\n",
    "print(\"Size of the array : \" , arr1.size)\n",
    "print(\"Dimention of the array : \" , arr1.ndim)"
   ]
  },
  {
   "cell_type": "markdown",
   "id": "1ba9bd05",
   "metadata": {},
   "source": [
    "#### 4. Write python code to access the first row of the following array?\n",
    "[[1, 2, 3, 4]\n",
    "[5, 6, 7, 8],\n",
    "[9, 10, 11, 12]]"
   ]
  },
  {
   "cell_type": "markdown",
   "id": "519d9209",
   "metadata": {},
   "source": [
    "#### Ans 4 :"
   ]
  },
  {
   "cell_type": "code",
   "execution_count": 11,
   "id": "905e7f71",
   "metadata": {},
   "outputs": [
    {
     "name": "stdout",
     "output_type": "stream",
     "text": [
      "Accessing the first row of array :  [1 2 3 4]\n"
     ]
    }
   ],
   "source": [
    "arr2 = np.array([[1, 2, 3, 4] ,[5, 6, 7, 8], [9, 10, 11, 12]])\n",
    "\n",
    "print(\"Accessing the first row of array : \", arr2[0])"
   ]
  },
  {
   "cell_type": "markdown",
   "id": "41707e81",
   "metadata": {},
   "source": [
    "#### 5. How do you access the element at the third row and fourth column from the given numpy array?\n",
    "[[1, 2, 3, 4]\n",
    "[5, 6, 7, 8],\n",
    "[9, 10, 11, 12]]"
   ]
  },
  {
   "cell_type": "markdown",
   "id": "0fc0946d",
   "metadata": {},
   "source": [
    "#### Ans 5) "
   ]
  },
  {
   "cell_type": "code",
   "execution_count": 13,
   "id": "ab9f7ce2",
   "metadata": {},
   "outputs": [
    {
     "name": "stdout",
     "output_type": "stream",
     "text": [
      "Accessing the third row and fourth column of array :  12\n"
     ]
    }
   ],
   "source": [
    "arr3 = np.array([[1, 2, 3, 4] ,[5, 6, 7, 8], [9, 10, 11, 12]])\n",
    "\n",
    "print(\"Accessing the third row and fourth column of array : \", arr3[2][3])"
   ]
  },
  {
   "cell_type": "markdown",
   "id": "7d14d208",
   "metadata": {},
   "source": [
    "#### 6. Write code to extract all odd-indexed elements from the given numpy array?\n",
    "[[1, 2, 3, 4]\n",
    "[5, 6, 7, 8],\n",
    "[9, 10, 11, 12]]"
   ]
  },
  {
   "cell_type": "markdown",
   "id": "bc5160fa",
   "metadata": {},
   "source": [
    "#### Ans 6)\n",
    "- NOTE: extracting the elements where either row or column is odd."
   ]
  },
  {
   "cell_type": "code",
   "execution_count": 17,
   "id": "88826a42",
   "metadata": {},
   "outputs": [
    {
     "name": "stdout",
     "output_type": "stream",
     "text": [
      "2\n",
      "4\n",
      "5\n",
      "6\n",
      "7\n",
      "8\n",
      "10\n",
      "12\n"
     ]
    }
   ],
   "source": [
    "arr4 = np.array([[1, 2, 3, 4] ,[5, 6, 7, 8], [9, 10, 11, 12]])\n",
    "\n",
    "for i in range(len(arr4)):\n",
    "    for j in range(len(arr4[0])):\n",
    "        if (i%2 != 0) or (j%2 != 0) :\n",
    "            print(arr4[i][j])"
   ]
  },
  {
   "cell_type": "markdown",
   "id": "efb4b892",
   "metadata": {},
   "source": [
    "#### 7. How can you generate a random 3x3 matrix with values between 0 and 1?"
   ]
  },
  {
   "cell_type": "markdown",
   "id": "d8c1e8f4",
   "metadata": {},
   "source": [
    "#### Ans ) \n",
    "- First create a matrix of 3x3 of None elements.\n",
    "- Using random module generate random number between 0 and 1 and assign them.\n",
    "- Display the matrix."
   ]
  },
  {
   "cell_type": "code",
   "execution_count": 18,
   "id": "4da5fd76",
   "metadata": {},
   "outputs": [],
   "source": [
    "import random"
   ]
  },
  {
   "cell_type": "code",
   "execution_count": 33,
   "id": "c369edcd",
   "metadata": {},
   "outputs": [
    {
     "data": {
      "text/plain": [
       "[[1, 0, 1], [1, 0, 1], [1, 0, 1]]"
      ]
     },
     "execution_count": 33,
     "metadata": {},
     "output_type": "execute_result"
    }
   ],
   "source": [
    "mat = [[None]*3]*3\n",
    "for i in range(3):\n",
    "    for j in range(3):\n",
    "        mat[i][j] = random.randint(0,1)\n",
    "        \n",
    "mat"
   ]
  },
  {
   "cell_type": "markdown",
   "id": "a86851e3",
   "metadata": {},
   "source": [
    "#### 8. Describe the difference between np.random.rand and np.random.randn?\n",
    "#### Ans 8) \n",
    "- The difference between np.random.rand and np.random.randn lies in the distribution from which the random numbers are drawn:\n",
    "\n",
    "1. np.random.rand: Generates random numbers from a uniform distribution in the interval [0,1]\n",
    "- Range: The numbers are between 0 (inclusive) and 1 (exclusive)."
   ]
  },
  {
   "cell_type": "code",
   "execution_count": 34,
   "id": "47df1266",
   "metadata": {},
   "outputs": [
    {
     "data": {
      "text/plain": [
       "array([0.76187277, 0.96758087, 0.68043509])"
      ]
     },
     "execution_count": 34,
     "metadata": {},
     "output_type": "execute_result"
    }
   ],
   "source": [
    "np.random.rand(3)"
   ]
  },
  {
   "cell_type": "markdown",
   "id": "c5d2a8e0",
   "metadata": {},
   "source": [
    "2. np.random.randn:Generates random numbers from a standard normal distribution (Gaussian distribution) with mean 0 and standard deviation 1\n",
    "- Range: The numbers can be positive or negative and are distributed according to the bell curve (normal distribution)."
   ]
  },
  {
   "cell_type": "code",
   "execution_count": 38,
   "id": "f5200ff6",
   "metadata": {},
   "outputs": [
    {
     "data": {
      "text/plain": [
       "array([ 0.60017524,  0.65949945, -0.03988929])"
      ]
     },
     "execution_count": 38,
     "metadata": {},
     "output_type": "execute_result"
    }
   ],
   "source": [
    "np.random.randn(3)"
   ]
  },
  {
   "cell_type": "markdown",
   "id": "051bb135",
   "metadata": {},
   "source": [
    "#### 9. Write code to increase the dimension of the following array?\n",
    "[[1, 2, 3, 4]\n",
    "[5, 6, 7, 8],\n",
    "[9, 10, 11, 12]]"
   ]
  },
  {
   "cell_type": "markdown",
   "id": "00d35573",
   "metadata": {},
   "source": [
    "#### Ans 9)"
   ]
  },
  {
   "cell_type": "code",
   "execution_count": 39,
   "id": "af41784c",
   "metadata": {},
   "outputs": [
    {
     "name": "stdout",
     "output_type": "stream",
     "text": [
      "[[[ 1  2  3  4]\n",
      "  [ 5  6  7  8]\n",
      "  [ 9 10 11 12]]]\n",
      "[[[ 1  2  3  4]\n",
      "  [ 5  6  7  8]\n",
      "  [ 9 10 11 12]]]\n"
     ]
    }
   ],
   "source": [
    "# Original array\n",
    "arr = np.array([[1, 2, 3, 4], \n",
    "                [5, 6, 7, 8], \n",
    "                [9, 10, 11, 12]])\n",
    "\n",
    "# Increase the dimension by adding a new axis (for example, add a new axis along axis 0)\n",
    "new_arr = np.expand_dims(arr, axis=0)\n",
    "\n",
    "# Another way is using reshape to add one more dimension\n",
    "new_arr_reshape = arr.reshape(1, 3, 4)\n",
    "\n",
    "print(new_arr)\n",
    "print(new_arr_reshape)\n"
   ]
  },
  {
   "cell_type": "markdown",
   "id": "99223c6d",
   "metadata": {},
   "source": [
    "#### 10. How to transpose the following array in NumPy?\n",
    "[[1, 2, 3, 4]\n",
    "[5, 6, 7, 8],\n",
    "[9, 10, 11, 12]]"
   ]
  },
  {
   "cell_type": "markdown",
   "id": "148dab41",
   "metadata": {},
   "source": [
    "#### 11. Consider the following matrix:\n",
    "Matrix A: [[1, 2, 3, 4] [5, 6, 7, 8],[9, 10, 11, 12]]\n",
    "Matrix B: [[1, 2, 3, 4] [5, 6, 7, 8],[9, 10, 11, 12]]\n",
    "Perform the following operation using Python1\n",
    "- Index wise multiplicatio'\n",
    "- Matrix multiplicatio'\n",
    "- Add both the matricK\n",
    "- Subtract matrix B from \n",
    "- Divide Matrix B by A"
   ]
  },
  {
   "cell_type": "markdown",
   "id": "7a8a9139",
   "metadata": {},
   "source": [
    "#### 12. Which function in Numpy can be used to swap the byte order of an array?\n",
    " "
   ]
  },
  {
   "cell_type": "markdown",
   "id": "46317a21",
   "metadata": {},
   "source": [
    "#### 13. What is the significance of the np.linalg.inv function?\n"
   ]
  },
  {
   "cell_type": "markdown",
   "id": "22508ab2",
   "metadata": {},
   "source": [
    "#### 14. What does the np.reshape function do, and how is it used?\n"
   ]
  },
  {
   "cell_type": "markdown",
   "id": "ccfa3ce7",
   "metadata": {},
   "source": [
    "#### 15. What is broadcasting in Numpy?"
   ]
  },
  {
   "cell_type": "markdown",
   "id": "6c0e1ccb",
   "metadata": {},
   "source": [
    "## "
   ]
  }
 ],
 "metadata": {
  "kernelspec": {
   "display_name": "Python 3 (ipykernel)",
   "language": "python",
   "name": "python3"
  },
  "language_info": {
   "codemirror_mode": {
    "name": "ipython",
    "version": 3
   },
   "file_extension": ".py",
   "mimetype": "text/x-python",
   "name": "python",
   "nbconvert_exporter": "python",
   "pygments_lexer": "ipython3",
   "version": "3.9.12"
  }
 },
 "nbformat": 4,
 "nbformat_minor": 5
}
