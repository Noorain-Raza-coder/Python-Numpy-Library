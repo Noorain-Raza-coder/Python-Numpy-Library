{
 "cells": [
  {
   "cell_type": "markdown",
   "id": "3135495f",
   "metadata": {},
   "source": [
    "## Numpy Library Assignment"
   ]
  },
  {
   "cell_type": "code",
   "execution_count": null,
   "id": "088a57b9",
   "metadata": {},
   "outputs": [],
   "source": []
  },
  {
   "cell_type": "markdown",
   "id": "ba310e83",
   "metadata": {},
   "source": [
    "#### 1. What is a Python library? Why do we use Python libraries?\n",
    "\n",
    "#### Ans : \n",
    "- Python Library : It is a collection of functions and methods.\n",
    "- Use : We use python libraries in our main program so that we don't need to explicitely write the complex program for a function which is already defined in python library. We can use a function or method of simply calling it after importing the library."
   ]
  },
  {
   "cell_type": "markdown",
   "id": "99b4173c",
   "metadata": {},
   "source": [
    "#### 2. What is the difference between Numpy array and List?\n",
    "#### Ans :\n",
    "- Python lists are mutable data type which can be used to store the data of different type while Numpy arrays are also mutable which store the data of same type.\n",
    "- Lists are slower than numpy array as Numpy array stores the data in `contiguous memory location` while lists store the data in `non-contiguous memory location`.\n",
    "- Lists are created using pair of bracket `[]` while numpy arrays are created using numpy's array() function."
   ]
  },
  {
   "cell_type": "markdown",
   "id": "f3da1185",
   "metadata": {},
   "source": [
    "#### 3. Find the shape, size and dimension of the following array?\n",
    "[[1, 2, 3, 4]\n",
    "[5, 6, 7, 8],\n",
    "[9, 10, 11, 12]]"
   ]
  },
  {
   "cell_type": "markdown",
   "id": "c921fba8",
   "metadata": {},
   "source": [
    "#### Ans :"
   ]
  },
  {
   "cell_type": "code",
   "execution_count": 10,
   "id": "60f46ba3",
   "metadata": {},
   "outputs": [
    {
     "name": "stdout",
     "output_type": "stream",
     "text": [
      "Shape of the array :  (3, 4)\n",
      "Size of the array :  12\n",
      "Dimention of the array :  2\n"
     ]
    }
   ],
   "source": [
    "import numpy as np\n",
    "\n",
    "arr1 = np.array([[1, 2, 3, 4], [5, 6, 7, 8], [9, 10, 11, 12]])\n",
    "\n",
    "print(\"Shape of the array : \" , arr1.shape)\n",
    "print(\"Size of the array : \" , arr1.size)\n",
    "print(\"Dimention of the array : \" , arr1.ndim)"
   ]
  },
  {
   "cell_type": "markdown",
   "id": "5c5d242a",
   "metadata": {},
   "source": [
    "#### 4. Write python code to access the first row of the following array?\n",
    "[[1, 2, 3, 4]\n",
    "[5, 6, 7, 8],\n",
    "[9, 10, 11, 12]]"
   ]
  },
  {
   "cell_type": "markdown",
   "id": "6a8b83b5",
   "metadata": {},
   "source": [
    "#### Ans 4 :"
   ]
  },
  {
   "cell_type": "code",
   "execution_count": 11,
   "id": "ea173b2b",
   "metadata": {},
   "outputs": [
    {
     "name": "stdout",
     "output_type": "stream",
     "text": [
      "Accessing the first row of array :  [1 2 3 4]\n"
     ]
    }
   ],
   "source": [
    "arr2 = np.array([[1, 2, 3, 4] ,[5, 6, 7, 8], [9, 10, 11, 12]])\n",
    "\n",
    "print(\"Accessing the first row of array : \", arr2[0])"
   ]
  },
  {
   "cell_type": "markdown",
   "id": "d16696e2",
   "metadata": {},
   "source": [
    "#### 5. How do you access the element at the third row and fourth column from the given numpy array?\n",
    "[[1, 2, 3, 4]\n",
    "[5, 6, 7, 8],\n",
    "[9, 10, 11, 12]]"
   ]
  },
  {
   "cell_type": "markdown",
   "id": "20a6f209",
   "metadata": {},
   "source": [
    "#### Ans 5) "
   ]
  },
  {
   "cell_type": "code",
   "execution_count": 13,
   "id": "f34ec878",
   "metadata": {},
   "outputs": [
    {
     "name": "stdout",
     "output_type": "stream",
     "text": [
      "Accessing the third row and fourth column of array :  12\n"
     ]
    }
   ],
   "source": [
    "arr3 = np.array([[1, 2, 3, 4] ,[5, 6, 7, 8], [9, 10, 11, 12]])\n",
    "\n",
    "print(\"Accessing the third row and fourth column of array : \", arr3[2][3])"
   ]
  },
  {
   "cell_type": "markdown",
   "id": "e8359763",
   "metadata": {},
   "source": [
    "#### 6. Write code to extract all odd-indexed elements from the given numpy array?\n",
    "[[1, 2, 3, 4]\n",
    "[5, 6, 7, 8],\n",
    "[9, 10, 11, 12]]"
   ]
  },
  {
   "cell_type": "markdown",
   "id": "a616583d",
   "metadata": {},
   "source": [
    "#### Ans 6)\n",
    "- NOTE: extracting the elements where either row or column is odd."
   ]
  },
  {
   "cell_type": "code",
   "execution_count": 17,
   "id": "fc3535d8",
   "metadata": {},
   "outputs": [
    {
     "name": "stdout",
     "output_type": "stream",
     "text": [
      "2\n",
      "4\n",
      "5\n",
      "6\n",
      "7\n",
      "8\n",
      "10\n",
      "12\n"
     ]
    }
   ],
   "source": [
    "arr4 = np.array([[1, 2, 3, 4] ,[5, 6, 7, 8], [9, 10, 11, 12]])\n",
    "\n",
    "for i in range(len(arr4)):\n",
    "    for j in range(len(arr4[0])):\n",
    "        if (i%2 != 0) or (j%2 != 0) :\n",
    "            print(arr4[i][j])"
   ]
  },
  {
   "cell_type": "code",
   "execution_count": null,
   "id": "66f46015",
   "metadata": {},
   "outputs": [],
   "source": []
  },
  {
   "cell_type": "markdown",
   "id": "79b7890f",
   "metadata": {},
   "source": [
    "#### 7. How can you generate a random 3x3 matrix with values between 0 and 1?"
   ]
  },
  {
   "cell_type": "markdown",
   "id": "b37cdde2",
   "metadata": {},
   "source": [
    "#### 8. Describe the difference between np.random.rand and np.random.randn?\n"
   ]
  },
  {
   "cell_type": "markdown",
   "id": "e110b28f",
   "metadata": {},
   "source": [
    "#### 9. Write code to increase the dimension of the following array?\n",
    "[[1, 2, 3, 4]\n",
    "[5, 6, 7, 8],\n",
    "[9, 10, 11, 12]]"
   ]
  },
  {
   "cell_type": "markdown",
   "id": "3c42175c",
   "metadata": {},
   "source": [
    "#### 10. How to transpose the following array in NumPy?\n",
    "[[1, 2, 3, 4]\n",
    "[5, 6, 7, 8],\n",
    "[9, 10, 11, 12]]"
   ]
  },
  {
   "cell_type": "markdown",
   "id": "ffff192b",
   "metadata": {},
   "source": [
    "#### 11. Consider the following matrix:\n",
    "Matrix A: [[1, 2, 3, 4] [5, 6, 7, 8],[9, 10, 11, 12]]\n",
    "Matrix B: [[1, 2, 3, 4] [5, 6, 7, 8],[9, 10, 11, 12]]\n",
    "Perform the following operation using Python1\n",
    "- Index wise multiplicatio'\n",
    "- Matrix multiplicatio'\n",
    "- Add both the matricK\n",
    "- Subtract matrix B from \n",
    "- Divide Matrix B by A"
   ]
  },
  {
   "cell_type": "markdown",
   "id": "0a317228",
   "metadata": {},
   "source": [
    "#### 12. Which function in Numpy can be used to swap the byte order of an array?\n",
    " "
   ]
  },
  {
   "cell_type": "markdown",
   "id": "0758e8cd",
   "metadata": {},
   "source": [
    "#### 13. What is the significance of the np.linalg.inv function?\n"
   ]
  },
  {
   "cell_type": "markdown",
   "id": "e5cc5e9b",
   "metadata": {},
   "source": [
    "#### 14. What does the np.reshape function do, and how is it used?\n"
   ]
  },
  {
   "cell_type": "markdown",
   "id": "6be8c7c7",
   "metadata": {},
   "source": [
    "#### 15. What is broadcasting in Numpy?"
   ]
  },
  {
   "cell_type": "markdown",
   "id": "c39a9277",
   "metadata": {},
   "source": [
    "## "
   ]
  }
 ],
 "metadata": {
  "kernelspec": {
   "display_name": "Python 3 (ipykernel)",
   "language": "python",
   "name": "python3"
  },
  "language_info": {
   "codemirror_mode": {
    "name": "ipython",
    "version": 3
   },
   "file_extension": ".py",
   "mimetype": "text/x-python",
   "name": "python",
   "nbconvert_exporter": "python",
   "pygments_lexer": "ipython3",
   "version": "3.9.12"
  }
 },
 "nbformat": 4,
 "nbformat_minor": 5
}
