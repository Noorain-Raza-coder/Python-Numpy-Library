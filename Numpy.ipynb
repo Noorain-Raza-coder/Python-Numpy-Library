{
 "cells": [
  {
   "cell_type": "markdown",
   "id": "690adf81",
   "metadata": {},
   "source": [
    "## Numpy Library Assignment"
   ]
  },
  {
   "cell_type": "code",
   "execution_count": null,
   "id": "45e179be",
   "metadata": {},
   "outputs": [],
   "source": []
  },
  {
   "cell_type": "markdown",
   "id": "5fb56e12",
   "metadata": {},
   "source": [
    "#### 1. What is a Python library? Why do we use Python libraries?\n",
    "\n",
    "#### Ans : \n",
    "- Python Library : It is a collection of functions and methods.\n",
    "- Use : We use python libraries in our main program so that we don't need to explicitely write the complex program for a function which is already defined in python library. We can use a function or method of simply calling it after importing the library."
   ]
  },
  {
   "cell_type": "markdown",
   "id": "ee989357",
   "metadata": {},
   "source": [
    "#### 2. What is the difference between Numpy array and List?\n",
    "#### Ans :\n",
    "- Python lists are mutable data type which can be used to store the data of different type while Numpy arrays are also mutable which store the data of same type.\n",
    "- Lists are slower than numpy array as Numpy array stores the data in `contiguous memory location` while lists store the data in `non-contiguous memory location`.\n",
    "- Lists are created using pair of bracket `[]` while numpy arrays are created using numpy's array() function."
   ]
  },
  {
   "cell_type": "markdown",
   "id": "a840dac9",
   "metadata": {},
   "source": [
    "#### 3. Find the shape, size and dimension of the following array?\n",
    "[[1, 2, 3, 4]\n",
    "[5, 6, 7, 8],\n",
    "[9, 10, 11, 12]]"
   ]
  },
  {
   "cell_type": "markdown",
   "id": "5564c984",
   "metadata": {},
   "source": [
    "#### Ans :"
   ]
  },
  {
   "cell_type": "code",
   "execution_count": 10,
   "id": "44caebc7",
   "metadata": {},
   "outputs": [
    {
     "name": "stdout",
     "output_type": "stream",
     "text": [
      "Shape of the array :  (3, 4)\n",
      "Size of the array :  12\n",
      "Dimention of the array :  2\n"
     ]
    }
   ],
   "source": [
    "import numpy as np\n",
    "\n",
    "arr1 = np.array([[1, 2, 3, 4], [5, 6, 7, 8], [9, 10, 11, 12]])\n",
    "\n",
    "print(\"Shape of the array : \" , arr1.shape)\n",
    "print(\"Size of the array : \" , arr1.size)\n",
    "print(\"Dimention of the array : \" , arr1.ndim)"
   ]
  },
  {
   "cell_type": "markdown",
   "id": "1ba9bd05",
   "metadata": {},
   "source": [
    "#### 4. Write python code to access the first row of the following array?\n",
    "[[1, 2, 3, 4]\n",
    "[5, 6, 7, 8],\n",
    "[9, 10, 11, 12]]"
   ]
  },
  {
   "cell_type": "markdown",
   "id": "519d9209",
   "metadata": {},
   "source": [
    "#### Ans 4 :"
   ]
  },
  {
   "cell_type": "code",
   "execution_count": 11,
   "id": "905e7f71",
   "metadata": {},
   "outputs": [
    {
     "name": "stdout",
     "output_type": "stream",
     "text": [
      "Accessing the first row of array :  [1 2 3 4]\n"
     ]
    }
   ],
   "source": [
    "arr2 = np.array([[1, 2, 3, 4] ,[5, 6, 7, 8], [9, 10, 11, 12]])\n",
    "\n",
    "print(\"Accessing the first row of array : \", arr2[0])"
   ]
  },
  {
   "cell_type": "markdown",
   "id": "41707e81",
   "metadata": {},
   "source": [
    "#### 5. How do you access the element at the third row and fourth column from the given numpy array?\n",
    "[[1, 2, 3, 4]\n",
    "[5, 6, 7, 8],\n",
    "[9, 10, 11, 12]]"
   ]
  },
  {
   "cell_type": "markdown",
   "id": "0fc0946d",
   "metadata": {},
   "source": [
    "#### Ans 5) "
   ]
  },
  {
   "cell_type": "code",
   "execution_count": 13,
   "id": "ab9f7ce2",
   "metadata": {},
   "outputs": [
    {
     "name": "stdout",
     "output_type": "stream",
     "text": [
      "Accessing the third row and fourth column of array :  12\n"
     ]
    }
   ],
   "source": [
    "arr3 = np.array([[1, 2, 3, 4] ,[5, 6, 7, 8], [9, 10, 11, 12]])\n",
    "\n",
    "print(\"Accessing the third row and fourth column of array : \", arr3[2][3])"
   ]
  },
  {
   "cell_type": "markdown",
   "id": "7d14d208",
   "metadata": {},
   "source": [
    "#### 6. Write code to extract all odd-indexed elements from the given numpy array?\n",
    "[[1, 2, 3, 4]\n",
    "[5, 6, 7, 8],\n",
    "[9, 10, 11, 12]]"
   ]
  },
  {
   "cell_type": "markdown",
   "id": "bc5160fa",
   "metadata": {},
   "source": [
    "#### Ans 6)\n",
    "- NOTE: extracting the elements where either row or column is odd."
   ]
  },
  {
   "cell_type": "code",
   "execution_count": 17,
   "id": "88826a42",
   "metadata": {},
   "outputs": [
    {
     "name": "stdout",
     "output_type": "stream",
     "text": [
      "2\n",
      "4\n",
      "5\n",
      "6\n",
      "7\n",
      "8\n",
      "10\n",
      "12\n"
     ]
    }
   ],
   "source": [
    "arr4 = np.array([[1, 2, 3, 4] ,[5, 6, 7, 8], [9, 10, 11, 12]])\n",
    "\n",
    "for i in range(len(arr4)):\n",
    "    for j in range(len(arr4[0])):\n",
    "        if (i%2 != 0) or (j%2 != 0) :\n",
    "            print(arr4[i][j])"
   ]
  },
  {
   "cell_type": "markdown",
   "id": "efb4b892",
   "metadata": {},
   "source": [
    "#### 7. How can you generate a random 3x3 matrix with values between 0 and 1?"
   ]
  },
  {
   "cell_type": "markdown",
   "id": "d8c1e8f4",
   "metadata": {},
   "source": [
    "#### Ans ) \n",
    "- Use the numpy random's randint function and pass the values that is to be generated in matrix.\n",
    "- pass a tuple of size 3,3 to generate a 3x3 matrix of random values between 0 and 1."
   ]
  },
  {
   "cell_type": "code",
   "execution_count": 2,
   "id": "4da5fd76",
   "metadata": {},
   "outputs": [],
   "source": [
    "import numpy as np"
   ]
  },
  {
   "cell_type": "code",
   "execution_count": 10,
   "id": "c369edcd",
   "metadata": {},
   "outputs": [
    {
     "data": {
      "text/plain": [
       "array([[0, 1, 0],\n",
       "       [0, 1, 0],\n",
       "       [1, 1, 1]])"
      ]
     },
     "execution_count": 10,
     "metadata": {},
     "output_type": "execute_result"
    }
   ],
   "source": [
    "arr = np.random.randint(0,2 , (3,3))\n",
    "arr"
   ]
  },
  {
   "cell_type": "markdown",
   "id": "a86851e3",
   "metadata": {},
   "source": [
    "#### 8. Describe the difference between np.random.rand and np.random.randn?\n",
    "#### Ans 8) \n",
    "- The difference between np.random.rand and np.random.randn lies in the distribution from which the random numbers are drawn:\n",
    "\n",
    "1. np.random.rand: Generates random numbers from a uniform distribution in the interval [0,1]\n",
    "- Range: The numbers are between 0 (inclusive) and 1 (exclusive)."
   ]
  },
  {
   "cell_type": "code",
   "execution_count": 34,
   "id": "47df1266",
   "metadata": {},
   "outputs": [
    {
     "data": {
      "text/plain": [
       "array([0.76187277, 0.96758087, 0.68043509])"
      ]
     },
     "execution_count": 34,
     "metadata": {},
     "output_type": "execute_result"
    }
   ],
   "source": [
    "np.random.rand(3)"
   ]
  },
  {
   "cell_type": "markdown",
   "id": "c5d2a8e0",
   "metadata": {},
   "source": [
    "2. np.random.randn:Generates random numbers from a standard normal distribution (Gaussian distribution) with mean 0 and standard deviation 1\n",
    "- Range: The numbers can be positive or negative and are distributed according to the bell curve (normal distribution)."
   ]
  },
  {
   "cell_type": "code",
   "execution_count": 38,
   "id": "f5200ff6",
   "metadata": {},
   "outputs": [
    {
     "data": {
      "text/plain": [
       "array([ 0.60017524,  0.65949945, -0.03988929])"
      ]
     },
     "execution_count": 38,
     "metadata": {},
     "output_type": "execute_result"
    }
   ],
   "source": [
    "np.random.randn(3)"
   ]
  },
  {
   "cell_type": "markdown",
   "id": "051bb135",
   "metadata": {},
   "source": [
    "#### 9. Write code to increase the dimension of the following array?\n",
    "[[1, 2, 3, 4]\n",
    "[5, 6, 7, 8],\n",
    "[9, 10, 11, 12]]"
   ]
  },
  {
   "cell_type": "markdown",
   "id": "00d35573",
   "metadata": {},
   "source": [
    "#### Ans 9)"
   ]
  },
  {
   "cell_type": "code",
   "execution_count": 39,
   "id": "af41784c",
   "metadata": {},
   "outputs": [
    {
     "name": "stdout",
     "output_type": "stream",
     "text": [
      "[[[ 1  2  3  4]\n",
      "  [ 5  6  7  8]\n",
      "  [ 9 10 11 12]]]\n",
      "[[[ 1  2  3  4]\n",
      "  [ 5  6  7  8]\n",
      "  [ 9 10 11 12]]]\n"
     ]
    }
   ],
   "source": [
    "# Original array\n",
    "arr = np.array([[1, 2, 3, 4], \n",
    "                [5, 6, 7, 8], \n",
    "                [9, 10, 11, 12]])\n",
    "\n",
    "# Increase the dimension by adding a new axis (for example, add a new axis along axis 0)\n",
    "new_arr = np.expand_dims(arr, axis=0)\n",
    "\n",
    "# Another way is using reshape to add one more dimension\n",
    "new_arr_reshape = arr.reshape(1, 3, 4)\n",
    "\n",
    "print(new_arr)\n",
    "print(new_arr_reshape)\n"
   ]
  },
  {
   "cell_type": "markdown",
   "id": "99223c6d",
   "metadata": {},
   "source": [
    "#### 10. How to transpose the following array in NumPy?\n",
    "[[1, 2, 3, 4]\n",
    "[5, 6, 7, 8],\n",
    "[9, 10, 11, 12]]"
   ]
  },
  {
   "cell_type": "markdown",
   "id": "5376e2fd",
   "metadata": {},
   "source": [
    "#### Ans )"
   ]
  },
  {
   "cell_type": "code",
   "execution_count": 15,
   "id": "6b17ad5f",
   "metadata": {},
   "outputs": [
    {
     "name": "stdout",
     "output_type": "stream",
     "text": [
      "Original Array : \n",
      " [[ 1  2  3  4]\n",
      " [ 5  6  7  8]\n",
      " [ 9 10 11 12]]\n",
      "Transpose Array : \n",
      " [[ 1  5  9]\n",
      " [ 2  6 10]\n",
      " [ 3  7 11]\n",
      " [ 4  8 12]]\n"
     ]
    }
   ],
   "source": [
    "arr10 = np.array([[1, 2, 3, 4],\n",
    "[5, 6, 7, 8],\n",
    "[9, 10, 11, 12]])\n",
    "\n",
    "print(\"Original Array : \\n\", arr10)\n",
    "print(\"Transpose Array : \\n\",arr10.T)"
   ]
  },
  {
   "cell_type": "markdown",
   "id": "148dab41",
   "metadata": {},
   "source": [
    "#### 11. Consider the following matrix:\n",
    "Matrix A: [[1, 2, 3, 4] [5, 6, 7, 8],[9, 10, 11, 12]]\n",
    "Matrix B: [[1, 2, 3, 4] [5, 6, 7, 8],[9, 10, 11, 12]]\n",
    "Perform the following operation using Python1\n",
    "- Index wise multiplicatio'\n",
    "- Matrix multiplicatio'\n",
    "- Add both the matricK\n",
    "- Subtract matrix B from \n",
    "- Divide Matrix B by A"
   ]
  },
  {
   "cell_type": "code",
   "execution_count": 19,
   "id": "9f906647",
   "metadata": {},
   "outputs": [
    {
     "name": "stdout",
     "output_type": "stream",
     "text": [
      "Matrix A : \n",
      " [[ 1  2  3  4]\n",
      " [ 5  6  7  8]\n",
      " [ 9 10 11 12]]\n",
      "Matrix B : \n",
      " [[ 1  2  3  4]\n",
      " [ 5  6  7  8]\n",
      " [ 9 10 11 12]]\n",
      "Index wise Multiplication : \n",
      " [[  1   4   9  16]\n",
      " [ 25  36  49  64]\n",
      " [ 81 100 121 144]]\n",
      "Index wise Matrix Addition : \n",
      " [[ 2  4  6  8]\n",
      " [10 12 14 16]\n",
      " [18 20 22 24]]\n",
      "Index wise Matrix Substraction : \n",
      " [[0 0 0 0]\n",
      " [0 0 0 0]\n",
      " [0 0 0 0]]\n",
      "Index wise Matrix Division : \n",
      " [[1. 1. 1. 1.]\n",
      " [1. 1. 1. 1.]\n",
      " [1. 1. 1. 1.]]\n"
     ]
    }
   ],
   "source": [
    "matA = np.array([[1, 2, 3, 4], [5, 6, 7, 8],[9, 10, 11, 12]])\n",
    "matB = np.array([[1, 2, 3, 4], [5, 6, 7, 8],[9, 10, 11, 12]])\n",
    "\n",
    "print(\"Matrix A : \\n\",matA)\n",
    "print(\"Matrix B : \\n\",matB)\n",
    "\n",
    "print(\"Index wise Multiplication : \\n\" , matA * matB)\n",
    "#print(\"Matrix Multiplication : \\n\" , matA @ matB)\n",
    "print(\"Index wise Matrix Addition : \\n\" , matA + matB)\n",
    "print(\"Index wise Matrix Substraction : \\n\" , matA - matB)\n",
    "print(\"Index wise Matrix Division : \\n\" , matB / matA)\n",
    "\n",
    "## NOTE: matrix multiplication is only possible when following condition meet:\n",
    "## if matrix A is n x m and matrix B is p x q\n",
    "## only if m = p then multiplication is possible.\n",
    "\n",
    "## But in given matrix m is not equal to p hence matrix multiplication is not possible."
   ]
  },
  {
   "cell_type": "markdown",
   "id": "7a8a9139",
   "metadata": {},
   "source": [
    "#### 12. Which function in Numpy can be used to swap the byte order of an array?\n",
    "#### Ans ) \n",
    "- The function in NumPy that can be used to swap the byte order of an array is np.ndarray.byteswap()."
   ]
  },
  {
   "cell_type": "markdown",
   "id": "46317a21",
   "metadata": {},
   "source": [
    "#### 13. What is the significance of the np.linalg.inv function?\n",
    "#### Ans) \n",
    "- The np.linalg.inv function in NumPy is used to calculate the inverse of a given square matrix.\n",
    "\n",
    "- Significance of the Inverse of a Matrix:\n",
    "- For a square matrix 𝐴, the inverse 𝐴−1 is defined such that:  A⋅A−1 =I \n",
    "- where I is the identity matrix. In other words, when a matrix is multiplied by its inverse, the result is the identity matrix.\n",
    "\n",
    "Applications: The inverse of a matrix is useful in various mathematical computations, including solving systems of linear equations, inverting transformations, and more.\n"
   ]
  },
  {
   "cell_type": "markdown",
   "id": "22508ab2",
   "metadata": {},
   "source": [
    "#### 14. What does the np.reshape function do, and how is it used?\n",
    "#### Ans )\n",
    "- The np.reshape function in NumPy is used to change the shape or dimensions of an existing array without changing its data."
   ]
  },
  {
   "cell_type": "code",
   "execution_count": 26,
   "id": "33560b08",
   "metadata": {},
   "outputs": [
    {
     "data": {
      "text/plain": [
       "array([[1, 2],\n",
       "       [3, 4]])"
      ]
     },
     "execution_count": 26,
     "metadata": {},
     "output_type": "execute_result"
    }
   ],
   "source": [
    "## for ex-\n",
    "arr14 = np.array([1,2,3,4])\n",
    "\n",
    "arr14.reshape(2,2)"
   ]
  },
  {
   "cell_type": "markdown",
   "id": "ccfa3ce7",
   "metadata": {},
   "source": [
    "#### 15. What is broadcasting in Numpy?\n",
    "#### Ans )\n",
    "- Broadcasting in NumPy refers to the ability to perform arithmetic operations on arrays of different shapes in an efficient way.\n",
    "- For ex - "
   ]
  },
  {
   "cell_type": "code",
   "execution_count": 25,
   "id": "fb1656a2",
   "metadata": {},
   "outputs": [
    {
     "name": "stdout",
     "output_type": "stream",
     "text": [
      "Adding Scaler : \n",
      "[6 7 8]\n",
      "Adding Array : \n",
      "[[11 22 33]\n",
      " [14 25 36]]\n"
     ]
    }
   ],
   "source": [
    "arr = np.array([1, 2, 3])\n",
    "scalar = 5\n",
    "\n",
    "result = arr + scalar\n",
    "print(\"Adding Scaler : \")\n",
    "print(result)\n",
    "\n",
    "\n",
    "arr1 = np.array([[1, 2, 3], [4, 5, 6]])\n",
    "arr2 = np.array([10, 20, 30])\n",
    "\n",
    "result = arr1 + arr2\n",
    "print(\"Adding Array : \")\n",
    "print(result)"
   ]
  }
 ],
 "metadata": {
  "kernelspec": {
   "display_name": "Python 3 (ipykernel)",
   "language": "python",
   "name": "python3"
  },
  "language_info": {
   "codemirror_mode": {
    "name": "ipython",
    "version": 3
   },
   "file_extension": ".py",
   "mimetype": "text/x-python",
   "name": "python",
   "nbconvert_exporter": "python",
   "pygments_lexer": "ipython3",
   "version": "3.9.12"
  }
 },
 "nbformat": 4,
 "nbformat_minor": 5
}
